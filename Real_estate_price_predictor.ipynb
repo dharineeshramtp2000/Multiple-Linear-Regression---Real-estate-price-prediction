{
  "nbformat": 4,
  "nbformat_minor": 0,
  "metadata": {
    "colab": {
      "name": "Real estate price predictor.ipynb",
      "provenance": [],
      "authorship_tag": "ABX9TyNHYxjGxbnWJ+8WP6sjOWDY",
      "include_colab_link": true
    },
    "kernelspec": {
      "name": "python3",
      "display_name": "Python 3"
    }
  },
  "cells": [
    {
      "cell_type": "markdown",
      "metadata": {
        "id": "view-in-github",
        "colab_type": "text"
      },
      "source": [
        "<a href=\"https://colab.research.google.com/github/dharineeshramtp2000/Multiple-Linear-Regression---Real-estate-price-prediction/blob/master/Real_estate_price_predictor.ipynb\" target=\"_parent\"><img src=\"https://colab.research.google.com/assets/colab-badge.svg\" alt=\"Open In Colab\"/></a>"
      ]
    },
    {
      "cell_type": "code",
      "metadata": {
        "id": "pb5kqJSkSijt",
        "colab_type": "code",
        "colab": {}
      },
      "source": [
        "# import the libraries\n",
        "import numpy as np \n",
        "import pandas as pd\n",
        "import matplotlib.pyplot as plt\n",
        "\n",
        "#import the dataset\n",
        "Dataset = pd.read_csv(\"Real estate.csv\")\n",
        "X = Dataset.iloc[:, 2:7]\n",
        "y = Dataset.iloc[:, -1]"
      ],
      "execution_count": 0,
      "outputs": []
    },
    {
      "cell_type": "markdown",
      "metadata": {
        "id": "gtoxC_tyT8JL",
        "colab_type": "text"
      },
      "source": [
        "The Dataset [Real Estate price Prediction](https://www.kaggle.com/quantbruce/real-estate-price-prediction) has 414 records, with 8 columns. \n",
        "\n",
        "\n",
        "---\n",
        "\n",
        "We take \n",
        "\n",
        "*   house age\n",
        "*   distance to the nearest MRT station\n",
        "*   number of convenience stores\n",
        "*   latitude\n",
        "*   longitude\n",
        "\n",
        "as 'X' which is the independemt variable and predict **house price of unit area.**\n",
        "\n",
        "\n",
        "\n",
        "\n",
        "\n",
        "\n"
      ]
    },
    {
      "cell_type": "code",
      "metadata": {
        "id": "aPjYqVh5S1ia",
        "colab_type": "code",
        "colab": {}
      },
      "source": [
        "#Feature scaling the independent variable\n",
        "from sklearn.preprocessing import StandardScaler\n",
        "sc_X = StandardScaler()\n",
        "X = sc_X.fit_transform(X)\n",
        "\n",
        "#splitting the data into train and test\n",
        "from sklearn.model_selection import train_test_split\n",
        "X_train , X_test , y_train , y_test = train_test_split(X , y , test_size = 0.2 , random_state = 42)\n"
      ],
      "execution_count": 0,
      "outputs": []
    },
    {
      "cell_type": "code",
      "metadata": {
        "id": "mI4N-HUKS7Qg",
        "colab_type": "code",
        "colab": {
          "base_uri": "https://localhost:8080/",
          "height": 118
        },
        "outputId": "49c20620-057a-4218-fad4-f032f6c8c9fb"
      },
      "source": [
        "#importing the linear regression models(using SGD)\n",
        "from sklearn.linear_model import SGDRegressor\n",
        "\n",
        "# Creating the object instance for SGD(Stochastic Gradient Descent)\n",
        "regressor = SGDRegressor(max_iter=10000, tol=1e-3, alpha =0.01, random_state = 0, learning_rate = 'invscaling' , eta0 = 0.0001)\n",
        "regressor.fit(X_train, y_train)"
      ],
      "execution_count": 3,
      "outputs": [
        {
          "output_type": "execute_result",
          "data": {
            "text/plain": [
              "SGDRegressor(alpha=0.01, average=False, early_stopping=False, epsilon=0.1,\n",
              "             eta0=0.0001, fit_intercept=True, l1_ratio=0.15,\n",
              "             learning_rate='invscaling', loss='squared_loss', max_iter=10000,\n",
              "             n_iter_no_change=5, penalty='l2', power_t=0.25, random_state=0,\n",
              "             shuffle=True, tol=0.001, validation_fraction=0.1, verbose=0,\n",
              "             warm_start=False)"
            ]
          },
          "metadata": {
            "tags": []
          },
          "execution_count": 3
        }
      ]
    },
    {
      "cell_type": "code",
      "metadata": {
        "id": "V3lSinUTTAwz",
        "colab_type": "code",
        "colab": {}
      },
      "source": [
        "#Predicting the output for our SGD Linear Model with the test set\n",
        "y_pred2 = regressor.predict(X_test)\n"
      ],
      "execution_count": 0,
      "outputs": []
    },
    {
      "cell_type": "code",
      "metadata": {
        "id": "sFokf5RrTHyL",
        "colab_type": "code",
        "colab": {
          "base_uri": "https://localhost:8080/",
          "height": 34
        },
        "outputId": "19b7bdcd-3558-4622-ceb1-a255c736a3fd"
      },
      "source": [
        "# Now lets calculate the Coefficient of Determination\n",
        "from sklearn.metrics import r2_score, mean_squared_error\n",
        "\n",
        "r_squared = r2_score(y_test, y_pred2)\n",
        "print(\"Coefficient of Determination = \",r_squared)\n"
      ],
      "execution_count": 6,
      "outputs": [
        {
          "output_type": "stream",
          "text": [
            "Coefficient of Determination =  0.6769299394926366\n"
          ],
          "name": "stdout"
        }
      ]
    },
    {
      "cell_type": "markdown",
      "metadata": {
        "id": "RATrMax2TMSr",
        "colab_type": "text"
      },
      "source": [
        "**The coefficient of Determination** is not that bad. This model has given a greater accuracy as it is a simple Multiple Regression. The same can be improved on going upon Poly Regression and or even other higher models like the Foresting Algorithms "
      ]
    },
    {
      "cell_type": "markdown",
      "metadata": {
        "id": "xzhElY61Vovz",
        "colab_type": "text"
      },
      "source": [
        "Yes, Multiple Regression is that Simple.\n",
        "![](https://www.axcelora.com/uploads/1/9/3/0/19308813/1427170805.png)"
      ]
    }
  ]
}